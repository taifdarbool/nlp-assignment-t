{
 "cells": [
  {
   "cell_type": "markdown",
   "metadata": {},
   "source": [
    "##  Creating Virtual Machine"
   ]
  },
  {
   "cell_type": "code",
   "execution_count": null,
   "metadata": {},
   "outputs": [],
   "source": [
    "#!/usr/bin/env python\n",
    "# coding: utf-8\n",
    "python -m venv nlp_env\n",
    "source nlp_env/bin/activate \n",
    "pip install torch transformers datasets"
   ]
  },
  {
   "cell_type": "markdown",
   "metadata": {},
   "source": [
    "## Installing all the Libraries"
   ]
  },
  {
   "cell_type": "code",
   "execution_count": null,
   "metadata": {},
   "outputs": [],
   "source": [
    "import torch\n",
    "from transformers import BertTokenizer, BertForMaskedLM\n",
    "from datasets import load_dataset\n",
    "import numpy as np\n",
    "import pandas as pd"
   ]
  },
  {
   "cell_type": "markdown",
   "metadata": {},
   "source": [
    "## Tarining the model "
   ]
  },
  {
   "cell_type": "code",
   "execution_count": null,
   "metadata": {},
   "outputs": [],
   "source": [
    "\n",
    "model_name = 'bert-base-cased'\n",
    "tokenizer = BertTokenizer.from_pretrained(model_name)\n",
    "model = BertForMaskedLM.from_pretrained(model_name)\n",
    "\n",
    "def mask_token(tokenizer, text, mask_index):\n",
    "    tokens = tokenizer.tokenize(text)\n",
    "    tokens[mask_index] = tokenizer.mask_token\n",
    "    masked_text = tokenizer.convert_tokens_to_string(tokens)\n",
    "    return masked_text\n",
    "\n",
    "def compute_pll_original(model, tokenizer, sentences):\n",
    "    pll_scores = []\n",
    "    for sentence in sentences:\n",
    "        tokens = tokenizer.tokenize(sentence)\n",
    "        input_ids = tokenizer(sentence, return_tensors='pt')['input_ids']\n",
    "        sentence_score = 0\n",
    "        for i in range(len(tokens)):\n",
    "            masked_sentence = mask_token(tokenizer, sentence, i)\n",
    "            masked_input_ids = tokenizer(masked_sentence, return_tensors='pt')['input_ids']\n",
    "            with torch.no_grad():\n",
    "                outputs = model(masked_input_ids)\n",
    "            logits = outputs.logits\n",
    "            softmax = torch.nn.functional.softmax(logits, dim=-1)\n",
    "            token_prob = softmax[0, i, input_ids[0, i]].item()\n",
    "            sentence_score += np.log(token_prob)\n",
    "        pll_scores.append(sentence_score)\n",
    "    return pll_scores\n",
    "\n",
    "def compute_pll_word_l2r(model, tokenizer, sentences):\n",
    "    pll_scores = []\n",
    "    for sentence in sentences:\n",
    "        tokens = tokenizer.tokenize(sentence)\n",
    "        input_ids = tokenizer(sentence, return_tensors='pt')['input_ids']\n",
    "        sentence_score = 0\n",
    "        i = 0\n",
    "        while i < len(tokens):\n",
    "            if tokens[i].startswith(\"##\"):\n",
    "                i += 1\n",
    "                continue\n",
    "            masked_sentence = mask_token(tokenizer, sentence, i)\n",
    "            masked_input_ids = tokenizer(masked_sentence, return_tensors='pt')['input_ids']\n",
    "            with torch.no_grad():\n",
    "                outputs = model(masked_input_ids)\n",
    "            logits = outputs.logits\n",
    "            softmax = torch.nn.functional.softmax(logits, dim=-1)\n",
    "            token_prob = softmax[0, i, input_ids[0, i]].item()\n",
    "            sentence_score += np.log(token_prob)\n",
    "            i += 1\n",
    "        pll_scores.append(sentence_score)\n",
    "    return pll_scores\n",
    "\n",
    "def compute_pll_whole_word(model, tokenizer, sentences):\n",
    "    pll_scores = []\n",
    "    for sentence in sentences:\n",
    "        tokens = tokenizer.tokenize(sentence)\n",
    "        input_ids = tokenizer(sentence, return_tensors='pt')['input_ids']\n",
    "        sentence_score = 0\n",
    "        i = 0\n",
    "        while i < len(tokens):\n",
    "            if tokens[i].startswith(\"##\"):\n",
    "                i += 1\n",
    "                continue\n",
    "            j = i\n",
    "            while j < len(tokens) and tokens[j].startswith(\"##\"):\n",
    "                j += 1\n",
    "            masked_sentence = mask_token(tokenizer, sentence, i)\n",
    "            masked_input_ids = tokenizer(masked_sentence, return_tensors='pt')['input_ids']\n",
    "            with torch.no_grad():\n",
    "                outputs = model(masked_input_ids)\n",
    "            logits = outputs.logits\n",
    "            softmax = torch.nn.functional.softmax(logits, dim=-1)\n",
    "            token_prob = softmax[0, i, input_ids[0, i]].item()\n",
    "            sentence_score += np.log(token_prob)\n",
    "            i = j\n",
    "        pll_scores.append(sentence_score)\n",
    "    return pll_scores\n"
   ]
  },
  {
   "cell_type": "markdown",
   "metadata": {},
   "source": [
    "## Loading the Dataset"
   ]
  },
  {
   "cell_type": "code",
   "execution_count": null,
   "metadata": {},
   "outputs": [],
   "source": [
    "\n",
    "dataset = load_dataset('ag_news', split='test[:1%]') \n",
    "sentences = [example['text'] for example in dataset]"
   ]
  },
  {
   "cell_type": "markdown",
   "metadata": {},
   "source": [
    "## Compare results"
   ]
  },
  {
   "cell_type": "code",
   "execution_count": null,
   "metadata": {},
   "outputs": [],
   "source": [
    "\n",
    "\n",
    "results = pd.DataFrame({\n",
    "    'Sentence': sentences,\n",
    "    'PLL Original': pll_original_scores,\n",
    "    'PLL Word L2R': pll_word_l2r_scores,\n",
    "    'PLL Whole Word': pll_whole_word_scores\n",
    "})\n"
   ]
  },
  {
   "cell_type": "markdown",
   "metadata": {},
   "source": [
    "## Save results to CSV"
   ]
  },
  {
   "cell_type": "code",
   "execution_count": null,
   "metadata": {},
   "outputs": [],
   "source": [
    "\n",
    "results.to_csv('pll_scores_comparison.csv', index=False)\n",
    "print(results.head())"
   ]
  }
 ],
 "metadata": {
  "language_info": {
   "name": "python"
  }
 },
 "nbformat": 4,
 "nbformat_minor": 2
}
